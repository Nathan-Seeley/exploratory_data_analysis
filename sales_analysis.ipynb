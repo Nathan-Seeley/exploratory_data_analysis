{
 "cells": [
  {
   "attachments": {},
   "cell_type": "markdown",
   "metadata": {},
   "source": [
    "# Exploratory Data Analysis #"
   ]
  },
  {
   "attachments": {},
   "cell_type": "markdown",
   "metadata": {},
   "source": [
    "## Set up imports for Pandas, Matplotlib, and MySQL Connector ##"
   ]
  },
  {
   "cell_type": "code",
   "execution_count": 175,
   "metadata": {},
   "outputs": [],
   "source": [
    "import pandas as pd\n",
    "import matplotlib.pyplot as plt\n",
    "import mysql.connector as connection"
   ]
  },
  {
   "attachments": {},
   "cell_type": "markdown",
   "metadata": {},
   "source": [
    "## Use MySQL Connector to establish a connection to my remote data source ##"
   ]
  },
  {
   "cell_type": "code",
   "execution_count": 176,
   "metadata": {},
   "outputs": [],
   "source": [
    "myremotedb = connection.connect(host = \"devcodecamp-mysql.c5p7yvjq1h8y.us-east-2.rds.amazonaws.com\", database = \"salesdb\", user = \"root\", password = \"D3v$tudent\", use_pure = True)"
   ]
  },
  {
   "attachments": {},
   "cell_type": "markdown",
   "metadata": {},
   "source": [
    "## Query **salesdb** to JOIN the information from the *sales* and *cities* tables and save as a single data frame ##"
   ]
  },
  {
   "cell_type": "code",
   "execution_count": 177,
   "metadata": {},
   "outputs": [
    {
     "name": "stderr",
     "output_type": "stream",
     "text": [
      "C:\\Users\\Owner\\AppData\\Local\\Temp\\ipykernel_28516\\2112312959.py:19: UserWarning: pandas only supports SQLAlchemy connectable (engine/connection) or database string URI or sqlite3 DBAPI2 connection. Other DBAPI2 objects are not tested. Please consider using SQLAlchemy.\n",
      "  joined_df = pd.read_sql_query(joinquery, myremotedb)\n"
     ]
    },
    {
     "data": {
      "text/html": [
       "<div>\n",
       "<style scoped>\n",
       "    .dataframe tbody tr th:only-of-type {\n",
       "        vertical-align: middle;\n",
       "    }\n",
       "\n",
       "    .dataframe tbody tr th {\n",
       "        vertical-align: top;\n",
       "    }\n",
       "\n",
       "    .dataframe thead th {\n",
       "        text-align: right;\n",
       "    }\n",
       "</style>\n",
       "<table border=\"1\" class=\"dataframe\">\n",
       "  <thead>\n",
       "    <tr style=\"text-align: right;\">\n",
       "      <th></th>\n",
       "      <th>Invoice_ID</th>\n",
       "      <th>Customer_Type</th>\n",
       "      <th>Gender</th>\n",
       "      <th>Product_Line</th>\n",
       "      <th>Unit_Price</th>\n",
       "      <th>Quantity</th>\n",
       "      <th>Sales_Tax</th>\n",
       "      <th>Total</th>\n",
       "      <th>Date</th>\n",
       "      <th>Time</th>\n",
       "      <th>Payment</th>\n",
       "      <th>COGS</th>\n",
       "      <th>Gross_Income</th>\n",
       "      <th>rating</th>\n",
       "      <th>City</th>\n",
       "    </tr>\n",
       "  </thead>\n",
       "  <tbody>\n",
       "    <tr>\n",
       "      <th>0</th>\n",
       "      <td>101-17-6199</td>\n",
       "      <td>Normal</td>\n",
       "      <td>Male</td>\n",
       "      <td>Food and beverages</td>\n",
       "      <td>45.79</td>\n",
       "      <td>7</td>\n",
       "      <td>None</td>\n",
       "      <td>336.5565</td>\n",
       "      <td>3/13/2019</td>\n",
       "      <td>19:44</td>\n",
       "      <td>Credit card</td>\n",
       "      <td>320.53</td>\n",
       "      <td>16.0265</td>\n",
       "      <td>7.0</td>\n",
       "      <td>Seattle</td>\n",
       "    </tr>\n",
       "    <tr>\n",
       "      <th>1</th>\n",
       "      <td>101-81-4070</td>\n",
       "      <td>Member</td>\n",
       "      <td>Female</td>\n",
       "      <td>Health and beauty</td>\n",
       "      <td>62.82</td>\n",
       "      <td>2</td>\n",
       "      <td>None</td>\n",
       "      <td>131.9220</td>\n",
       "      <td>1/17/2019</td>\n",
       "      <td>12:36</td>\n",
       "      <td>Ewallet</td>\n",
       "      <td>125.64</td>\n",
       "      <td>6.2820</td>\n",
       "      <td>4.9</td>\n",
       "      <td>Milwaukee</td>\n",
       "    </tr>\n",
       "    <tr>\n",
       "      <th>2</th>\n",
       "      <td>102-06-2002</td>\n",
       "      <td>Member</td>\n",
       "      <td>Male</td>\n",
       "      <td>Sports and travel</td>\n",
       "      <td>25.25</td>\n",
       "      <td>5</td>\n",
       "      <td>None</td>\n",
       "      <td>132.5625</td>\n",
       "      <td>3/20/2019</td>\n",
       "      <td>17:52</td>\n",
       "      <td>Cash</td>\n",
       "      <td>126.25</td>\n",
       "      <td>6.3125</td>\n",
       "      <td>6.1</td>\n",
       "      <td>Milwaukee</td>\n",
       "    </tr>\n",
       "    <tr>\n",
       "      <th>3</th>\n",
       "      <td>102-77-2261</td>\n",
       "      <td>Member</td>\n",
       "      <td>Male</td>\n",
       "      <td>Health and beauty</td>\n",
       "      <td>65.31</td>\n",
       "      <td>7</td>\n",
       "      <td>None</td>\n",
       "      <td>480.0285</td>\n",
       "      <td>3/5/2019</td>\n",
       "      <td>18:02</td>\n",
       "      <td>Credit card</td>\n",
       "      <td>457.17</td>\n",
       "      <td>22.8585</td>\n",
       "      <td>4.2</td>\n",
       "      <td>Milwaukee</td>\n",
       "    </tr>\n",
       "    <tr>\n",
       "      <th>4</th>\n",
       "      <td>105-10-6182</td>\n",
       "      <td>Member</td>\n",
       "      <td>Male</td>\n",
       "      <td>Fashion accessories</td>\n",
       "      <td>21.48</td>\n",
       "      <td>2</td>\n",
       "      <td>None</td>\n",
       "      <td>45.1080</td>\n",
       "      <td>2/27/2019</td>\n",
       "      <td>12:22</td>\n",
       "      <td>Ewallet</td>\n",
       "      <td>42.96</td>\n",
       "      <td>2.1480</td>\n",
       "      <td>6.6</td>\n",
       "      <td>Seattle</td>\n",
       "    </tr>\n",
       "  </tbody>\n",
       "</table>\n",
       "</div>"
      ],
      "text/plain": [
       "    Invoice_ID Customer_Type  Gender         Product_Line  Unit_Price  \\\n",
       "0  101-17-6199        Normal    Male   Food and beverages       45.79   \n",
       "1  101-81-4070        Member  Female    Health and beauty       62.82   \n",
       "2  102-06-2002        Member    Male    Sports and travel       25.25   \n",
       "3  102-77-2261        Member    Male    Health and beauty       65.31   \n",
       "4  105-10-6182        Member    Male  Fashion accessories       21.48   \n",
       "\n",
       "   Quantity Sales_Tax     Total       Date   Time      Payment    COGS  \\\n",
       "0         7      None  336.5565  3/13/2019  19:44  Credit card  320.53   \n",
       "1         2      None  131.9220  1/17/2019  12:36      Ewallet  125.64   \n",
       "2         5      None  132.5625  3/20/2019  17:52         Cash  126.25   \n",
       "3         7      None  480.0285   3/5/2019  18:02  Credit card  457.17   \n",
       "4         2      None   45.1080  2/27/2019  12:22      Ewallet   42.96   \n",
       "\n",
       "   Gross_Income  rating       City  \n",
       "0       16.0265     7.0    Seattle  \n",
       "1        6.2820     4.9  Milwaukee  \n",
       "2        6.3125     6.1  Milwaukee  \n",
       "3       22.8585     4.2  Milwaukee  \n",
       "4        2.1480     6.6    Seattle  "
      ]
     },
     "execution_count": 177,
     "metadata": {},
     "output_type": "execute_result"
    }
   ],
   "source": [
    "joinquery = \"\"\"SELECT sales.Invoice_ID,\n",
    "                    sales.Customer_Type,\n",
    "                    sales.Gender,\n",
    "                    sales.Product_Line,\n",
    "                    sales.Unit_Price,\n",
    "                    sales.Quantity,\n",
    "                    sales.Sales_Tax,\n",
    "                    sales.Total,\n",
    "                    sales.Date,\n",
    "                    sales.Time,\n",
    "                    sales.Payment,\n",
    "                    sales.COGS,\n",
    "                    sales.Gross_Income,\n",
    "                    sales.rating,\n",
    "                    cities.City\n",
    "                    FROM sales \n",
    "                    JOIN cities \n",
    "                    ON sales.City_ID = cities.City_ID \"\"\"\n",
    "joined_df = pd.read_sql_query(joinquery, myremotedb)\n",
    "joined_df.head()"
   ]
  },
  {
   "attachments": {},
   "cell_type": "markdown",
   "metadata": {},
   "source": [
    "## Perform necessary data cleaning and wrangling steps on Joined DataFrame ##"
   ]
  },
  {
   "attachments": {},
   "cell_type": "markdown",
   "metadata": {},
   "source": [
    "* Explore all the `values` within all the `columns` of the new *Joined DataFrame* "
   ]
  },
  {
   "cell_type": "code",
   "execution_count": 178,
   "metadata": {},
   "outputs": [
    {
     "data": {
      "text/html": [
       "<div>\n",
       "<style scoped>\n",
       "    .dataframe tbody tr th:only-of-type {\n",
       "        vertical-align: middle;\n",
       "    }\n",
       "\n",
       "    .dataframe tbody tr th {\n",
       "        vertical-align: top;\n",
       "    }\n",
       "\n",
       "    .dataframe thead th {\n",
       "        text-align: right;\n",
       "    }\n",
       "</style>\n",
       "<table border=\"1\" class=\"dataframe\">\n",
       "  <thead>\n",
       "    <tr style=\"text-align: right;\">\n",
       "      <th></th>\n",
       "      <th>Invoice_ID</th>\n",
       "      <th>Customer_Type</th>\n",
       "      <th>Gender</th>\n",
       "      <th>Product_Line</th>\n",
       "      <th>Unit_Price</th>\n",
       "      <th>Quantity</th>\n",
       "      <th>Sales_Tax</th>\n",
       "      <th>Total</th>\n",
       "      <th>Date</th>\n",
       "      <th>Time</th>\n",
       "      <th>Payment</th>\n",
       "      <th>COGS</th>\n",
       "      <th>Gross_Income</th>\n",
       "      <th>City</th>\n",
       "      <th>Rating</th>\n",
       "    </tr>\n",
       "  </thead>\n",
       "  <tbody>\n",
       "    <tr>\n",
       "      <th>0</th>\n",
       "      <td>101-17-6199</td>\n",
       "      <td>Normal</td>\n",
       "      <td>Male</td>\n",
       "      <td>Food and beverages</td>\n",
       "      <td>45.79</td>\n",
       "      <td>7</td>\n",
       "      <td>None</td>\n",
       "      <td>336.5565</td>\n",
       "      <td>3/13/2019</td>\n",
       "      <td>19:44</td>\n",
       "      <td>Credit card</td>\n",
       "      <td>320.53</td>\n",
       "      <td>16.0265</td>\n",
       "      <td>Seattle</td>\n",
       "      <td>7.0</td>\n",
       "    </tr>\n",
       "    <tr>\n",
       "      <th>1</th>\n",
       "      <td>101-81-4070</td>\n",
       "      <td>Member</td>\n",
       "      <td>Female</td>\n",
       "      <td>Health and beauty</td>\n",
       "      <td>62.82</td>\n",
       "      <td>2</td>\n",
       "      <td>None</td>\n",
       "      <td>131.9220</td>\n",
       "      <td>1/17/2019</td>\n",
       "      <td>12:36</td>\n",
       "      <td>Ewallet</td>\n",
       "      <td>125.64</td>\n",
       "      <td>6.2820</td>\n",
       "      <td>Milwaukee</td>\n",
       "      <td>4.9</td>\n",
       "    </tr>\n",
       "    <tr>\n",
       "      <th>2</th>\n",
       "      <td>102-06-2002</td>\n",
       "      <td>Member</td>\n",
       "      <td>Male</td>\n",
       "      <td>Sports and travel</td>\n",
       "      <td>25.25</td>\n",
       "      <td>5</td>\n",
       "      <td>None</td>\n",
       "      <td>132.5625</td>\n",
       "      <td>3/20/2019</td>\n",
       "      <td>17:52</td>\n",
       "      <td>Cash</td>\n",
       "      <td>126.25</td>\n",
       "      <td>6.3125</td>\n",
       "      <td>Milwaukee</td>\n",
       "      <td>6.1</td>\n",
       "    </tr>\n",
       "    <tr>\n",
       "      <th>3</th>\n",
       "      <td>102-77-2261</td>\n",
       "      <td>Member</td>\n",
       "      <td>Male</td>\n",
       "      <td>Health and beauty</td>\n",
       "      <td>65.31</td>\n",
       "      <td>7</td>\n",
       "      <td>None</td>\n",
       "      <td>480.0285</td>\n",
       "      <td>3/5/2019</td>\n",
       "      <td>18:02</td>\n",
       "      <td>Credit card</td>\n",
       "      <td>457.17</td>\n",
       "      <td>22.8585</td>\n",
       "      <td>Milwaukee</td>\n",
       "      <td>4.2</td>\n",
       "    </tr>\n",
       "    <tr>\n",
       "      <th>4</th>\n",
       "      <td>105-10-6182</td>\n",
       "      <td>Member</td>\n",
       "      <td>Male</td>\n",
       "      <td>Fashion accessories</td>\n",
       "      <td>21.48</td>\n",
       "      <td>2</td>\n",
       "      <td>None</td>\n",
       "      <td>45.1080</td>\n",
       "      <td>2/27/2019</td>\n",
       "      <td>12:22</td>\n",
       "      <td>Ewallet</td>\n",
       "      <td>42.96</td>\n",
       "      <td>2.1480</td>\n",
       "      <td>Seattle</td>\n",
       "      <td>6.6</td>\n",
       "    </tr>\n",
       "  </tbody>\n",
       "</table>\n",
       "</div>"
      ],
      "text/plain": [
       "    Invoice_ID Customer_Type  Gender         Product_Line  Unit_Price  \\\n",
       "0  101-17-6199        Normal    Male   Food and beverages       45.79   \n",
       "1  101-81-4070        Member  Female    Health and beauty       62.82   \n",
       "2  102-06-2002        Member    Male    Sports and travel       25.25   \n",
       "3  102-77-2261        Member    Male    Health and beauty       65.31   \n",
       "4  105-10-6182        Member    Male  Fashion accessories       21.48   \n",
       "\n",
       "   Quantity Sales_Tax     Total       Date   Time      Payment    COGS  \\\n",
       "0         7      None  336.5565  3/13/2019  19:44  Credit card  320.53   \n",
       "1         2      None  131.9220  1/17/2019  12:36      Ewallet  125.64   \n",
       "2         5      None  132.5625  3/20/2019  17:52         Cash  126.25   \n",
       "3         7      None  480.0285   3/5/2019  18:02  Credit card  457.17   \n",
       "4         2      None   45.1080  2/27/2019  12:22      Ewallet   42.96   \n",
       "\n",
       "   Gross_Income       City  Rating  \n",
       "0       16.0265    Seattle     7.0  \n",
       "1        6.2820  Milwaukee     4.9  \n",
       "2        6.3125  Milwaukee     6.1  \n",
       "3       22.8585  Milwaukee     4.2  \n",
       "4        2.1480    Seattle     6.6  "
      ]
     },
     "execution_count": 178,
     "metadata": {},
     "output_type": "execute_result"
    }
   ],
   "source": [
    "joined_df[\"Rating\"] = joined_df[\"rating\"]\n",
    "dropped_rating_df = joined_df.drop(\"rating\", axis = 1)\n",
    "dropped_rating_df.head()\n"
   ]
  },
  {
   "attachments": {},
   "cell_type": "markdown",
   "metadata": {},
   "source": [
    "* Check for/drop null `values` from *Joined DataFrame* "
   ]
  },
  {
   "cell_type": "code",
   "execution_count": 179,
   "metadata": {},
   "outputs": [
    {
     "data": {
      "text/html": [
       "<div>\n",
       "<style scoped>\n",
       "    .dataframe tbody tr th:only-of-type {\n",
       "        vertical-align: middle;\n",
       "    }\n",
       "\n",
       "    .dataframe tbody tr th {\n",
       "        vertical-align: top;\n",
       "    }\n",
       "\n",
       "    .dataframe thead th {\n",
       "        text-align: right;\n",
       "    }\n",
       "</style>\n",
       "<table border=\"1\" class=\"dataframe\">\n",
       "  <thead>\n",
       "    <tr style=\"text-align: right;\">\n",
       "      <th></th>\n",
       "      <th>Invoice_ID</th>\n",
       "      <th>Customer_Type</th>\n",
       "      <th>Gender</th>\n",
       "      <th>Product_Line</th>\n",
       "      <th>Unit_Price</th>\n",
       "      <th>Quantity</th>\n",
       "      <th>Total</th>\n",
       "      <th>Date</th>\n",
       "      <th>Time</th>\n",
       "      <th>Payment</th>\n",
       "      <th>COGS</th>\n",
       "      <th>Gross_Income</th>\n",
       "      <th>City</th>\n",
       "      <th>Rating</th>\n",
       "    </tr>\n",
       "  </thead>\n",
       "  <tbody>\n",
       "    <tr>\n",
       "      <th>0</th>\n",
       "      <td>101-17-6199</td>\n",
       "      <td>Normal</td>\n",
       "      <td>Male</td>\n",
       "      <td>Food and beverages</td>\n",
       "      <td>45.79</td>\n",
       "      <td>7</td>\n",
       "      <td>336.5565</td>\n",
       "      <td>3/13/2019</td>\n",
       "      <td>19:44</td>\n",
       "      <td>Credit card</td>\n",
       "      <td>320.53</td>\n",
       "      <td>16.0265</td>\n",
       "      <td>Seattle</td>\n",
       "      <td>7.0</td>\n",
       "    </tr>\n",
       "    <tr>\n",
       "      <th>1</th>\n",
       "      <td>101-81-4070</td>\n",
       "      <td>Member</td>\n",
       "      <td>Female</td>\n",
       "      <td>Health and beauty</td>\n",
       "      <td>62.82</td>\n",
       "      <td>2</td>\n",
       "      <td>131.9220</td>\n",
       "      <td>1/17/2019</td>\n",
       "      <td>12:36</td>\n",
       "      <td>Ewallet</td>\n",
       "      <td>125.64</td>\n",
       "      <td>6.2820</td>\n",
       "      <td>Milwaukee</td>\n",
       "      <td>4.9</td>\n",
       "    </tr>\n",
       "    <tr>\n",
       "      <th>2</th>\n",
       "      <td>102-06-2002</td>\n",
       "      <td>Member</td>\n",
       "      <td>Male</td>\n",
       "      <td>Sports and travel</td>\n",
       "      <td>25.25</td>\n",
       "      <td>5</td>\n",
       "      <td>132.5625</td>\n",
       "      <td>3/20/2019</td>\n",
       "      <td>17:52</td>\n",
       "      <td>Cash</td>\n",
       "      <td>126.25</td>\n",
       "      <td>6.3125</td>\n",
       "      <td>Milwaukee</td>\n",
       "      <td>6.1</td>\n",
       "    </tr>\n",
       "    <tr>\n",
       "      <th>3</th>\n",
       "      <td>102-77-2261</td>\n",
       "      <td>Member</td>\n",
       "      <td>Male</td>\n",
       "      <td>Health and beauty</td>\n",
       "      <td>65.31</td>\n",
       "      <td>7</td>\n",
       "      <td>480.0285</td>\n",
       "      <td>3/5/2019</td>\n",
       "      <td>18:02</td>\n",
       "      <td>Credit card</td>\n",
       "      <td>457.17</td>\n",
       "      <td>22.8585</td>\n",
       "      <td>Milwaukee</td>\n",
       "      <td>4.2</td>\n",
       "    </tr>\n",
       "    <tr>\n",
       "      <th>4</th>\n",
       "      <td>105-10-6182</td>\n",
       "      <td>Member</td>\n",
       "      <td>Male</td>\n",
       "      <td>Fashion accessories</td>\n",
       "      <td>21.48</td>\n",
       "      <td>2</td>\n",
       "      <td>45.1080</td>\n",
       "      <td>2/27/2019</td>\n",
       "      <td>12:22</td>\n",
       "      <td>Ewallet</td>\n",
       "      <td>42.96</td>\n",
       "      <td>2.1480</td>\n",
       "      <td>Seattle</td>\n",
       "      <td>6.6</td>\n",
       "    </tr>\n",
       "  </tbody>\n",
       "</table>\n",
       "</div>"
      ],
      "text/plain": [
       "    Invoice_ID Customer_Type  Gender         Product_Line  Unit_Price  \\\n",
       "0  101-17-6199        Normal    Male   Food and beverages       45.79   \n",
       "1  101-81-4070        Member  Female    Health and beauty       62.82   \n",
       "2  102-06-2002        Member    Male    Sports and travel       25.25   \n",
       "3  102-77-2261        Member    Male    Health and beauty       65.31   \n",
       "4  105-10-6182        Member    Male  Fashion accessories       21.48   \n",
       "\n",
       "   Quantity     Total       Date   Time      Payment    COGS  Gross_Income  \\\n",
       "0         7  336.5565  3/13/2019  19:44  Credit card  320.53       16.0265   \n",
       "1         2  131.9220  1/17/2019  12:36      Ewallet  125.64        6.2820   \n",
       "2         5  132.5625  3/20/2019  17:52         Cash  126.25        6.3125   \n",
       "3         7  480.0285   3/5/2019  18:02  Credit card  457.17       22.8585   \n",
       "4         2   45.1080  2/27/2019  12:22      Ewallet   42.96        2.1480   \n",
       "\n",
       "        City  Rating  \n",
       "0    Seattle     7.0  \n",
       "1  Milwaukee     4.9  \n",
       "2  Milwaukee     6.1  \n",
       "3  Milwaukee     4.2  \n",
       "4    Seattle     6.6  "
      ]
     },
     "execution_count": 179,
     "metadata": {},
     "output_type": "execute_result"
    }
   ],
   "source": [
    "\n",
    "no_null_df = dropped_rating_df.drop(\"Sales_Tax\", axis = 1)\n",
    "\n",
    "no_null_df.head ()\n"
   ]
  },
  {
   "attachments": {},
   "cell_type": "markdown",
   "metadata": {},
   "source": [
    "`Sales_Tax column removed`"
   ]
  },
  {
   "attachments": {},
   "cell_type": "markdown",
   "metadata": {},
   "source": [
    "* Check for duplicate `rows` from the *No Null DataFrame*"
   ]
  },
  {
   "cell_type": "code",
   "execution_count": 180,
   "metadata": {},
   "outputs": [
    {
     "data": {
      "text/plain": [
       "0      False\n",
       "658    False\n",
       "659    False\n",
       "660    False\n",
       "661    False\n",
       "       ...  \n",
       "339    False\n",
       "340    False\n",
       "341    False\n",
       "328    False\n",
       "999    False\n",
       "Length: 1000, dtype: bool"
      ]
     },
     "execution_count": 180,
     "metadata": {},
     "output_type": "execute_result"
    }
   ],
   "source": [
    "no_null_df.duplicated().sort_values()\n",
    "\n"
   ]
  },
  {
   "attachments": {},
   "cell_type": "markdown",
   "metadata": {},
   "source": [
    "`No duplicate rows to delete`"
   ]
  },
  {
   "attachments": {},
   "cell_type": "markdown",
   "metadata": {},
   "source": [
    "* Convert any necessary `values` to *Panda DateTime* format within `columns` of the *No Null DataFrame*"
   ]
  },
  {
   "cell_type": "code",
   "execution_count": 181,
   "metadata": {},
   "outputs": [
    {
     "data": {
      "text/html": [
       "<div>\n",
       "<style scoped>\n",
       "    .dataframe tbody tr th:only-of-type {\n",
       "        vertical-align: middle;\n",
       "    }\n",
       "\n",
       "    .dataframe tbody tr th {\n",
       "        vertical-align: top;\n",
       "    }\n",
       "\n",
       "    .dataframe thead th {\n",
       "        text-align: right;\n",
       "    }\n",
       "</style>\n",
       "<table border=\"1\" class=\"dataframe\">\n",
       "  <thead>\n",
       "    <tr style=\"text-align: right;\">\n",
       "      <th></th>\n",
       "      <th>Invoice_ID</th>\n",
       "      <th>Customer_Type</th>\n",
       "      <th>Gender</th>\n",
       "      <th>Product_Line</th>\n",
       "      <th>Unit_Price</th>\n",
       "      <th>Quantity</th>\n",
       "      <th>Total</th>\n",
       "      <th>Date</th>\n",
       "      <th>Time</th>\n",
       "      <th>Payment</th>\n",
       "      <th>COGS</th>\n",
       "      <th>Gross_Income</th>\n",
       "      <th>City</th>\n",
       "      <th>Rating</th>\n",
       "    </tr>\n",
       "  </thead>\n",
       "  <tbody>\n",
       "    <tr>\n",
       "      <th>0</th>\n",
       "      <td>101-17-6199</td>\n",
       "      <td>Normal</td>\n",
       "      <td>Male</td>\n",
       "      <td>Food and beverages</td>\n",
       "      <td>45.79</td>\n",
       "      <td>7</td>\n",
       "      <td>336.5565</td>\n",
       "      <td>2019-03-13</td>\n",
       "      <td>19:44</td>\n",
       "      <td>Credit card</td>\n",
       "      <td>320.53</td>\n",
       "      <td>16.0265</td>\n",
       "      <td>Seattle</td>\n",
       "      <td>7.0</td>\n",
       "    </tr>\n",
       "    <tr>\n",
       "      <th>1</th>\n",
       "      <td>101-81-4070</td>\n",
       "      <td>Member</td>\n",
       "      <td>Female</td>\n",
       "      <td>Health and beauty</td>\n",
       "      <td>62.82</td>\n",
       "      <td>2</td>\n",
       "      <td>131.9220</td>\n",
       "      <td>2019-01-17</td>\n",
       "      <td>12:36</td>\n",
       "      <td>Ewallet</td>\n",
       "      <td>125.64</td>\n",
       "      <td>6.2820</td>\n",
       "      <td>Milwaukee</td>\n",
       "      <td>4.9</td>\n",
       "    </tr>\n",
       "    <tr>\n",
       "      <th>2</th>\n",
       "      <td>102-06-2002</td>\n",
       "      <td>Member</td>\n",
       "      <td>Male</td>\n",
       "      <td>Sports and travel</td>\n",
       "      <td>25.25</td>\n",
       "      <td>5</td>\n",
       "      <td>132.5625</td>\n",
       "      <td>2019-03-20</td>\n",
       "      <td>17:52</td>\n",
       "      <td>Cash</td>\n",
       "      <td>126.25</td>\n",
       "      <td>6.3125</td>\n",
       "      <td>Milwaukee</td>\n",
       "      <td>6.1</td>\n",
       "    </tr>\n",
       "    <tr>\n",
       "      <th>3</th>\n",
       "      <td>102-77-2261</td>\n",
       "      <td>Member</td>\n",
       "      <td>Male</td>\n",
       "      <td>Health and beauty</td>\n",
       "      <td>65.31</td>\n",
       "      <td>7</td>\n",
       "      <td>480.0285</td>\n",
       "      <td>2019-03-05</td>\n",
       "      <td>18:02</td>\n",
       "      <td>Credit card</td>\n",
       "      <td>457.17</td>\n",
       "      <td>22.8585</td>\n",
       "      <td>Milwaukee</td>\n",
       "      <td>4.2</td>\n",
       "    </tr>\n",
       "    <tr>\n",
       "      <th>4</th>\n",
       "      <td>105-10-6182</td>\n",
       "      <td>Member</td>\n",
       "      <td>Male</td>\n",
       "      <td>Fashion accessories</td>\n",
       "      <td>21.48</td>\n",
       "      <td>2</td>\n",
       "      <td>45.1080</td>\n",
       "      <td>2019-02-27</td>\n",
       "      <td>12:22</td>\n",
       "      <td>Ewallet</td>\n",
       "      <td>42.96</td>\n",
       "      <td>2.1480</td>\n",
       "      <td>Seattle</td>\n",
       "      <td>6.6</td>\n",
       "    </tr>\n",
       "  </tbody>\n",
       "</table>\n",
       "</div>"
      ],
      "text/plain": [
       "    Invoice_ID Customer_Type  Gender         Product_Line  Unit_Price  \\\n",
       "0  101-17-6199        Normal    Male   Food and beverages       45.79   \n",
       "1  101-81-4070        Member  Female    Health and beauty       62.82   \n",
       "2  102-06-2002        Member    Male    Sports and travel       25.25   \n",
       "3  102-77-2261        Member    Male    Health and beauty       65.31   \n",
       "4  105-10-6182        Member    Male  Fashion accessories       21.48   \n",
       "\n",
       "   Quantity     Total       Date   Time      Payment    COGS  Gross_Income  \\\n",
       "0         7  336.5565 2019-03-13  19:44  Credit card  320.53       16.0265   \n",
       "1         2  131.9220 2019-01-17  12:36      Ewallet  125.64        6.2820   \n",
       "2         5  132.5625 2019-03-20  17:52         Cash  126.25        6.3125   \n",
       "3         7  480.0285 2019-03-05  18:02  Credit card  457.17       22.8585   \n",
       "4         2   45.1080 2019-02-27  12:22      Ewallet   42.96        2.1480   \n",
       "\n",
       "        City  Rating  \n",
       "0    Seattle     7.0  \n",
       "1  Milwaukee     4.9  \n",
       "2  Milwaukee     6.1  \n",
       "3  Milwaukee     4.2  \n",
       "4    Seattle     6.6  "
      ]
     },
     "execution_count": 181,
     "metadata": {},
     "output_type": "execute_result"
    }
   ],
   "source": [
    "no_null_df[\"Date\"] = pd.to_datetime(no_null_df[\"Date\"])\n",
    "# no_null_df[\"Time\"] = pd.to_datetime(no_null_df[\"Time\"])\n",
    "no_null_df.head()"
   ]
  },
  {
   "attachments": {},
   "cell_type": "markdown",
   "metadata": {},
   "source": [
    "`Date and Time columns converted to Panda DateTime format`"
   ]
  },
  {
   "attachments": {},
   "cell_type": "markdown",
   "metadata": {},
   "source": [
    "#### Create a `variable` that represents the final filtered *DataFrame*"
   ]
  },
  {
   "cell_type": "code",
   "execution_count": 182,
   "metadata": {},
   "outputs": [
    {
     "name": "stdout",
     "output_type": "stream",
     "text": [
      "<class 'pandas.core.frame.DataFrame'>\n",
      "RangeIndex: 1000 entries, 0 to 999\n",
      "Data columns (total 14 columns):\n",
      " #   Column         Non-Null Count  Dtype         \n",
      "---  ------         --------------  -----         \n",
      " 0   Invoice_ID     1000 non-null   object        \n",
      " 1   Customer_Type  1000 non-null   object        \n",
      " 2   Gender         1000 non-null   object        \n",
      " 3   Product_Line   1000 non-null   object        \n",
      " 4   Unit_Price     1000 non-null   float64       \n",
      " 5   Quantity       1000 non-null   int64         \n",
      " 6   Total          1000 non-null   float64       \n",
      " 7   Date           1000 non-null   datetime64[ns]\n",
      " 8   Time           1000 non-null   object        \n",
      " 9   Payment        1000 non-null   object        \n",
      " 10  COGS           1000 non-null   float64       \n",
      " 11  Gross_Income   1000 non-null   float64       \n",
      " 12  City           1000 non-null   object        \n",
      " 13  Rating         1000 non-null   float64       \n",
      "dtypes: datetime64[ns](1), float64(5), int64(1), object(7)\n",
      "memory usage: 109.5+ KB\n"
     ]
    }
   ],
   "source": [
    "clean_df = no_null_df\n",
    "clean_df.info()"
   ]
  },
  {
   "attachments": {},
   "cell_type": "markdown",
   "metadata": {},
   "source": [
    "## Examine the Spread of `values` across `columns` within `Filtered DataFrame` ##"
   ]
  },
  {
   "attachments": {},
   "cell_type": "markdown",
   "metadata": {},
   "source": [
    "* How many sales were made for members vs. normal customers"
   ]
  },
  {
   "cell_type": "code",
   "execution_count": 183,
   "metadata": {},
   "outputs": [
    {
     "data": {
      "text/plain": [
       "Member    501\n",
       "Normal    499\n",
       "Name: Customer_Type, dtype: int64"
      ]
     },
     "execution_count": 183,
     "metadata": {},
     "output_type": "execute_result"
    }
   ],
   "source": [
    "customer_type_sales_frequency = clean_df[\"Customer_Type\"].value_counts()\n",
    "customer_type_sales_frequency\n",
    "# customer_type_sales_frequency_query = \" SELECT Customer_Type, COUNT(Customer_Type) AS Customer_Transaction_Count FROM sales GROUP BY Customer_Type ORDER BY Customer_Type\"\n",
    "# customer_type_sales_frequency_df = pd.read_sql_query(customer_type_sales_frequency_query, myremotedb)\n",
    "# customer_type_sales_frequency_df\n",
    "\n"
   ]
  },
  {
   "attachments": {},
   "cell_type": "markdown",
   "metadata": {},
   "source": [
    "* How many sales were made at each store location"
   ]
  },
  {
   "cell_type": "code",
   "execution_count": 184,
   "metadata": {},
   "outputs": [
    {
     "data": {
      "text/plain": [
       "Seattle          340\n",
       "New York City    332\n",
       "Milwaukee        328\n",
       "Name: City, dtype: int64"
      ]
     },
     "execution_count": 184,
     "metadata": {},
     "output_type": "execute_result"
    }
   ],
   "source": [
    "sale_transaction_amount_per_location = clean_df[\"City\"].value_counts()\n",
    "sale_transaction_amount_per_location\n",
    "\n",
    "# sale_transaction_amount_per_location_query = \" SELECT City, COUNT(City) AS Sale_Transactions_Per_City FROM city_saledbcity_saledb GROUP BY City ORDER BY City DESC\"\n",
    "# sale_transaction_amount_per_location_df = pd.read_sql_query(sale_transaction_amount_per_location_query, myremotedb)\n",
    "# sale_transaction_amount_per_location_df"
   ]
  },
  {
   "attachments": {},
   "cell_type": "markdown",
   "metadata": {},
   "source": [
    "* How many sales were made for each product line"
   ]
  },
  {
   "cell_type": "code",
   "execution_count": 185,
   "metadata": {},
   "outputs": [
    {
     "data": {
      "text/plain": [
       "Fashion accessories       178\n",
       "Food and beverages        174\n",
       "Electronic accessories    170\n",
       "Sports and travel         166\n",
       "Home and lifestyle        160\n",
       "Health and beauty         152\n",
       "Name: Product_Line, dtype: int64"
      ]
     },
     "execution_count": 185,
     "metadata": {},
     "output_type": "execute_result"
    }
   ],
   "source": [
    "amount_sold_per_product = clean_df[\"Product_Line\"].value_counts()\n",
    "amount_sold_per_product\n",
    "\n",
    "# amount_sold_per_product_query = \" SELECT Product_Line, COUNT(Product_line) AS Product_Line_Count FROM sales GROUP BY Product_Line ORDER BY Product_LIne_Count DESC\"\n",
    "# amount_sold_per_product_df = pd.read_sql_query(amount_sold_per_product_query, myremotedb)\n",
    "# amount_sold_per_product_df"
   ]
  },
  {
   "attachments": {},
   "cell_type": "markdown",
   "metadata": {},
   "source": [
    "* What is the overall average rating, based on all sales records"
   ]
  },
  {
   "cell_type": "code",
   "execution_count": 186,
   "metadata": {},
   "outputs": [
    {
     "data": {
      "text/plain": [
       "6.9727"
      ]
     },
     "execution_count": 186,
     "metadata": {},
     "output_type": "execute_result"
    }
   ],
   "source": [
    "overall_rating_average = clean_df[\"Rating\"].mean()\n",
    "overall_rating_average\n",
    "\n",
    "# overall_rating_average_query = \" SELECT AVG(Rating) as Overall_Ratings_Average FROM sales \"\n",
    "# overall_rating_average_df = pd.read_sql_query(overall_rating_average_query, myremotedb)\n",
    "# overall_rating_average_df"
   ]
  },
  {
   "attachments": {},
   "cell_type": "markdown",
   "metadata": {},
   "source": [
    "## Create three visualizations of the `DataFrame` to better understand any trends or patterns within the data set with each containing a **chart  title** / **X-axis label** / **Y-axis label** ##"
   ]
  },
  {
   "attachments": {},
   "cell_type": "markdown",
   "metadata": {},
   "source": [
    "* Create a **BAR** chart to show the `Individual Product Count` per `City`"
   ]
  },
  {
   "cell_type": "code",
   "execution_count": 192,
   "metadata": {},
   "outputs": [
    {
     "data": {
      "image/png": "[encoded data removed]",
      "text/plain": [
       "<Figure size 1400x900 with 1 Axes>"
      ]
     },
     "metadata": {},
     "output_type": "display_data"
    }
   ],
   "source": [
    "cities = clean_df[(clean_df[\"City\"] == \"Seattle\") | (clean_df[\"City\"] == \"New York City\") | (clean_df[\"City\"] == \"Milwaukee\")]\n",
    "cities.groupby([\"Product_Line\", \"City\"]).size().unstack().plot.bar(figsize = (14,9));\n",
    "plt.title(\"Product per City Transaction Amount\", fontsize = 16)\n",
    "plt.xlabel(\"Product\", fontsize = 14);\n",
    "plt.ylabel(\"Transaction Count\", fontsize = 14);"
   ]
  },
  {
   "attachments": {},
   "cell_type": "markdown",
   "metadata": {},
   "source": [
    "* Plot a **BOX** chart representing the `Gross Income` of the `Products Sold`"
   ]
  },
  {
   "cell_type": "code",
   "execution_count": 190,
   "metadata": {},
   "outputs": [
    {
     "data": {
      "image/png": "[encoded data removed]",
      "text/plain": [
       "<Figure size 640x480 with 1 Axes>"
      ]
     },
     "metadata": {},
     "output_type": "display_data"
    }
   ],
   "source": [
    "clean_df.plot(kind = \"box\", column = [\"Gross_Income\"], by = \"Product_Line\", showfliers = False)\n",
    "plt.xticks(rotation = \"vertical\")\n",
    "plt.title(\"Gross Income of Product Sold\", fontsize = 14)\n",
    "plt.xlabel(\"Product Sold\", fontsize = 12)\n",
    "plt.ylabel(\"Gross Income\", fontsize = 12);"
   ]
  },
  {
   "attachments": {},
   "cell_type": "markdown",
   "metadata": {},
   "source": [
    "* Plot a **SCATTER** chart to show the correlation between the `Cost of Goods` and `Gross Sales`"
   ]
  },
  {
   "cell_type": "code",
   "execution_count": 191,
   "metadata": {},
   "outputs": [
    {
     "data": {
      "image/png": "[encoded data removed]",
      "text/plain": [
       "<Figure size 640x480 with 1 Axes>"
      ]
     },
     "metadata": {},
     "output_type": "display_data"
    }
   ],
   "source": [
    "clean_df.plot.scatter(x=\"COGS\", y = \"Gross_Income\")\n",
    "plt.title(\"Cost of Goods and Gross Sales Correlation\", fontsize = 14)\n",
    "plt.xlabel(\"Cost of Goods Sold\", fontsize = 12)\n",
    "plt.ylabel(\"Gross Sales\", fontsize = 12);"
   ]
  }
 ],
 "metadata": {
  "kernelspec": {
   "display_name": "Python 3",
   "language": "python",
   "name": "python3"
  },
  "language_info": {
   "codemirror_mode": {
    "name": "ipython",
    "version": 3
   },
   "file_extension": ".py",
   "mimetype": "text/x-python",
   "name": "python",
   "nbconvert_exporter": "python",
   "pygments_lexer": "ipython3",
   "version": "3.10.9"
  },
  "orig_nbformat": 4,
  "vscode": {
   "interpreter": {
    "hash": "1d208fc92f63bff2dd80c97ffe5a57d134e87b05d2dbf0af794face5bab8487c"
   }
  }
 },
 "nbformat": 4,
 "nbformat_minor": 2
}
