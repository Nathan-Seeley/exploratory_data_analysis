{
 "cells": [
  {
   "attachments": {},
   "cell_type": "markdown",
   "metadata": {},
   "source": [
    "## Exploratory Data Analysis ##"
   ]
  },
  {
   "attachments": {},
   "cell_type": "markdown",
   "metadata": {},
   "source": [
    "#### Set up imports for Pandas, Matplotlib, and MySQL Connector ####"
   ]
  },
  {
   "cell_type": "code",
   "execution_count": 31,
   "metadata": {},
   "outputs": [],
   "source": [
    "import pandas as pd\n",
    "import matplotlib.pyplot as plt\n",
    "import mysql.connector as connection\n"
   ]
  },
  {
   "attachments": {},
   "cell_type": "markdown",
   "metadata": {},
   "source": [
    "#### Use MySQL Connector to establish a connection to my remote data source ####"
   ]
  },
  {
   "cell_type": "code",
   "execution_count": 32,
   "metadata": {},
   "outputs": [],
   "source": [
    "myremotedb = connection.connect(host = \"devcodecamp-mysql.c5p7yvjq1h8y.us-east-2.rds.amazonaws.com\", database = \"salesdb\", user = \"root\", password = \"D3v$tudent\", use_pure = True)"
   ]
  },
  {
   "attachments": {},
   "cell_type": "markdown",
   "metadata": {},
   "source": [
    "#### Query **salesdb** to JOIN the information from the *sales* and *cities* tables and save as a single data frame ####"
   ]
  },
  {
   "cell_type": "code",
   "execution_count": null,
   "metadata": {},
   "outputs": [],
   "source": [
    "joinquery = \"\"\"SELECT sales.Invoice_ID,\n",
    "                    sales.Customer_Type,\n",
    "                    sales.Gender,\n",
    "                    sales.Product_Line,\n",
    "                    sales.Unit_Price,\n",
    "                    sales.Quantity,\n",
    "                    sales.Sales_Tax,\n",
    "                    sales.Total,\n",
    "                    sales.Date,\n",
    "                    sales.Time,\n",
    "                    sales.Payment,\n",
    "                    sales.COGS,\n",
    "                    sales.Gross_Income,\n",
    "                    sales.rating,\n",
    "                    cities.City \n",
    "                    FROM sales \n",
    "                    JOIN cities \n",
    "                    ON sales.City_ID = cities.City_ID\"\"\"\n",
    "joined_df = pd.read_sql_query(joinquery, myremotedb)"
   ]
  }
 ],
 "metadata": {
  "kernelspec": {
   "display_name": "Python 3",
   "language": "python",
   "name": "python3"
  },
  "language_info": {
   "codemirror_mode": {
    "name": "ipython",
    "version": 3
   },
   "file_extension": ".py",
   "mimetype": "text/x-python",
   "name": "python",
   "nbconvert_exporter": "python",
   "pygments_lexer": "ipython3",
   "version": "3.10.9"
  },
  "orig_nbformat": 4,
  "vscode": {
   "interpreter": {
    "hash": "1d208fc92f63bff2dd80c97ffe5a57d134e87b05d2dbf0af794face5bab8487c"
   }
  }
 },
 "nbformat": 4,
 "nbformat_minor": 2
}
